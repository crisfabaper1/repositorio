{
  "nbformat": 4,
  "nbformat_minor": 0,
  "metadata": {
    "colab": {
      "provenance": [],
      "authorship_tag": "ABX9TyMx1f5m6NNJcajrkg2/HJ7e",
      "include_colab_link": true
    },
    "kernelspec": {
      "name": "python3",
      "display_name": "Python 3"
    },
    "language_info": {
      "name": "python"
    },
    "widgets": {
      "application/vnd.jupyter.widget-state+json": {
        "21456b33a8954549ab19f4a8b47afeb2": {
          "model_module": "@jupyter-widgets/controls",
          "model_name": "VBoxModel",
          "model_module_version": "1.5.0",
          "state": {
            "_dom_classes": [],
            "_model_module": "@jupyter-widgets/controls",
            "_model_module_version": "1.5.0",
            "_model_name": "VBoxModel",
            "_view_count": null,
            "_view_module": "@jupyter-widgets/controls",
            "_view_module_version": "1.5.0",
            "_view_name": "VBoxView",
            "box_style": "",
            "children": [
              "IPY_MODEL_1c05908a48c84c2aae84c247cea5b847",
              "IPY_MODEL_5e3d53f3e16d44d6af3639c85ce58d3c"
            ],
            "layout": "IPY_MODEL_e6aca08d477c499faf0f760d8e9076d3"
          }
        },
        "1c05908a48c84c2aae84c247cea5b847": {
          "model_module": "@jupyter-widgets/controls",
          "model_name": "FloatSliderModel",
          "model_module_version": "1.5.0",
          "state": {
            "_dom_classes": [],
            "_model_module": "@jupyter-widgets/controls",
            "_model_module_version": "1.5.0",
            "_model_name": "FloatSliderModel",
            "_view_count": null,
            "_view_module": "@jupyter-widgets/controls",
            "_view_module_version": "1.5.0",
            "_view_name": "FloatSliderView",
            "continuous_update": true,
            "description": "Valor de h:",
            "description_tooltip": null,
            "disabled": false,
            "layout": "IPY_MODEL_696b616e727a4e85b3b3efee1c887f30",
            "max": 5,
            "min": 0.01,
            "orientation": "horizontal",
            "readout": true,
            "readout_format": ".2f",
            "step": 0.01,
            "style": "IPY_MODEL_c96bc8c887fe42a08bac97e47c8cc93b",
            "value": 0.01
          }
        },
        "5e3d53f3e16d44d6af3639c85ce58d3c": {
          "model_module": "@jupyter-widgets/controls",
          "model_name": "FloatTextModel",
          "model_module_version": "1.5.0",
          "state": {
            "_dom_classes": [],
            "_model_module": "@jupyter-widgets/controls",
            "_model_module_version": "1.5.0",
            "_model_name": "FloatTextModel",
            "_view_count": null,
            "_view_module": "@jupyter-widgets/controls",
            "_view_module_version": "1.5.0",
            "_view_name": "FloatTextView",
            "continuous_update": false,
            "description": "Punto a:",
            "description_tooltip": null,
            "disabled": false,
            "layout": "IPY_MODEL_248c8584bf27479b86ff46f9475b42fa",
            "step": null,
            "style": "IPY_MODEL_0d03653474b041c0a62b9b6f0d683d12",
            "value": 2
          }
        },
        "e6aca08d477c499faf0f760d8e9076d3": {
          "model_module": "@jupyter-widgets/base",
          "model_name": "LayoutModel",
          "model_module_version": "1.2.0",
          "state": {
            "_model_module": "@jupyter-widgets/base",
            "_model_module_version": "1.2.0",
            "_model_name": "LayoutModel",
            "_view_count": null,
            "_view_module": "@jupyter-widgets/base",
            "_view_module_version": "1.2.0",
            "_view_name": "LayoutView",
            "align_content": null,
            "align_items": null,
            "align_self": null,
            "border": null,
            "bottom": null,
            "display": null,
            "flex": null,
            "flex_flow": null,
            "grid_area": null,
            "grid_auto_columns": null,
            "grid_auto_flow": null,
            "grid_auto_rows": null,
            "grid_column": null,
            "grid_gap": null,
            "grid_row": null,
            "grid_template_areas": null,
            "grid_template_columns": null,
            "grid_template_rows": null,
            "height": null,
            "justify_content": null,
            "justify_items": null,
            "left": null,
            "margin": null,
            "max_height": null,
            "max_width": null,
            "min_height": null,
            "min_width": null,
            "object_fit": null,
            "object_position": null,
            "order": null,
            "overflow": null,
            "overflow_x": null,
            "overflow_y": null,
            "padding": null,
            "right": null,
            "top": null,
            "visibility": null,
            "width": null
          }
        },
        "696b616e727a4e85b3b3efee1c887f30": {
          "model_module": "@jupyter-widgets/base",
          "model_name": "LayoutModel",
          "model_module_version": "1.2.0",
          "state": {
            "_model_module": "@jupyter-widgets/base",
            "_model_module_version": "1.2.0",
            "_model_name": "LayoutModel",
            "_view_count": null,
            "_view_module": "@jupyter-widgets/base",
            "_view_module_version": "1.2.0",
            "_view_name": "LayoutView",
            "align_content": null,
            "align_items": null,
            "align_self": null,
            "border": null,
            "bottom": null,
            "display": null,
            "flex": null,
            "flex_flow": null,
            "grid_area": null,
            "grid_auto_columns": null,
            "grid_auto_flow": null,
            "grid_auto_rows": null,
            "grid_column": null,
            "grid_gap": null,
            "grid_row": null,
            "grid_template_areas": null,
            "grid_template_columns": null,
            "grid_template_rows": null,
            "height": null,
            "justify_content": null,
            "justify_items": null,
            "left": null,
            "margin": null,
            "max_height": null,
            "max_width": null,
            "min_height": null,
            "min_width": null,
            "object_fit": null,
            "object_position": null,
            "order": null,
            "overflow": null,
            "overflow_x": null,
            "overflow_y": null,
            "padding": null,
            "right": null,
            "top": null,
            "visibility": null,
            "width": null
          }
        },
        "c96bc8c887fe42a08bac97e47c8cc93b": {
          "model_module": "@jupyter-widgets/controls",
          "model_name": "SliderStyleModel",
          "model_module_version": "1.5.0",
          "state": {
            "_model_module": "@jupyter-widgets/controls",
            "_model_module_version": "1.5.0",
            "_model_name": "SliderStyleModel",
            "_view_count": null,
            "_view_module": "@jupyter-widgets/base",
            "_view_module_version": "1.2.0",
            "_view_name": "StyleView",
            "description_width": "",
            "handle_color": null
          }
        },
        "248c8584bf27479b86ff46f9475b42fa": {
          "model_module": "@jupyter-widgets/base",
          "model_name": "LayoutModel",
          "model_module_version": "1.2.0",
          "state": {
            "_model_module": "@jupyter-widgets/base",
            "_model_module_version": "1.2.0",
            "_model_name": "LayoutModel",
            "_view_count": null,
            "_view_module": "@jupyter-widgets/base",
            "_view_module_version": "1.2.0",
            "_view_name": "LayoutView",
            "align_content": null,
            "align_items": null,
            "align_self": null,
            "border": null,
            "bottom": null,
            "display": null,
            "flex": null,
            "flex_flow": null,
            "grid_area": null,
            "grid_auto_columns": null,
            "grid_auto_flow": null,
            "grid_auto_rows": null,
            "grid_column": null,
            "grid_gap": null,
            "grid_row": null,
            "grid_template_areas": null,
            "grid_template_columns": null,
            "grid_template_rows": null,
            "height": null,
            "justify_content": null,
            "justify_items": null,
            "left": null,
            "margin": null,
            "max_height": null,
            "max_width": null,
            "min_height": null,
            "min_width": null,
            "object_fit": null,
            "object_position": null,
            "order": null,
            "overflow": null,
            "overflow_x": null,
            "overflow_y": null,
            "padding": null,
            "right": null,
            "top": null,
            "visibility": null,
            "width": null
          }
        },
        "0d03653474b041c0a62b9b6f0d683d12": {
          "model_module": "@jupyter-widgets/controls",
          "model_name": "DescriptionStyleModel",
          "model_module_version": "1.5.0",
          "state": {
            "_model_module": "@jupyter-widgets/controls",
            "_model_module_version": "1.5.0",
            "_model_name": "DescriptionStyleModel",
            "_view_count": null,
            "_view_module": "@jupyter-widgets/base",
            "_view_module_version": "1.2.0",
            "_view_name": "StyleView",
            "description_width": ""
          }
        },
        "e6aa779fdf804399a3564b021eb3b873": {
          "model_module": "@jupyter-widgets/output",
          "model_name": "OutputModel",
          "model_module_version": "1.0.0",
          "state": {
            "_dom_classes": [],
            "_model_module": "@jupyter-widgets/output",
            "_model_module_version": "1.0.0",
            "_model_name": "OutputModel",
            "_view_count": null,
            "_view_module": "@jupyter-widgets/output",
            "_view_module_version": "1.0.0",
            "_view_name": "OutputView",
            "layout": "IPY_MODEL_185acd42ebe0415cb0670bb0912723b8",
            "msg_id": "",
            "outputs": [
              {
                "output_type": "display_data",
                "data": {
                  "text/plain": "<Figure size 1000x600 with 1 Axes>",
                  "image/png": "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\n"
                },
                "metadata": {}
              },
              {
                "output_type": "display_data",
                "data": {
                  "text/plain": "VBox(children=(FloatSlider(value=0.01, description='Valor de h:', max=5.0, min=0.01, step=0.01), FloatText(val…",
                  "application/vnd.jupyter.widget-view+json": {
                    "version_major": 2,
                    "version_minor": 0,
                    "model_id": "21456b33a8954549ab19f4a8b47afeb2"
                  }
                },
                "metadata": {}
              }
            ]
          }
        },
        "185acd42ebe0415cb0670bb0912723b8": {
          "model_module": "@jupyter-widgets/base",
          "model_name": "LayoutModel",
          "model_module_version": "1.2.0",
          "state": {
            "_model_module": "@jupyter-widgets/base",
            "_model_module_version": "1.2.0",
            "_model_name": "LayoutModel",
            "_view_count": null,
            "_view_module": "@jupyter-widgets/base",
            "_view_module_version": "1.2.0",
            "_view_name": "LayoutView",
            "align_content": null,
            "align_items": null,
            "align_self": null,
            "border": null,
            "bottom": null,
            "display": null,
            "flex": null,
            "flex_flow": null,
            "grid_area": null,
            "grid_auto_columns": null,
            "grid_auto_flow": null,
            "grid_auto_rows": null,
            "grid_column": null,
            "grid_gap": null,
            "grid_row": null,
            "grid_template_areas": null,
            "grid_template_columns": null,
            "grid_template_rows": null,
            "height": null,
            "justify_content": null,
            "justify_items": null,
            "left": null,
            "margin": null,
            "max_height": null,
            "max_width": null,
            "min_height": null,
            "min_width": null,
            "object_fit": null,
            "object_position": null,
            "order": null,
            "overflow": null,
            "overflow_x": null,
            "overflow_y": null,
            "padding": null,
            "right": null,
            "top": null,
            "visibility": null,
            "width": null
          }
        }
      }
    }
  },
  "cells": [
    {
      "cell_type": "markdown",
      "metadata": {
        "id": "view-in-github",
        "colab_type": "text"
      },
      "source": [
        "<a href=\"https://colab.research.google.com/github/crisfabaper1/repositorio/blob/main/Concepto_Grafico_derivada_de_una_funcion.ipynb\" target=\"_parent\"><img src=\"https://colab.research.google.com/assets/colab-badge.svg\" alt=\"Open In Colab\"/></a>"
      ]
    },
    {
      "cell_type": "code",
      "execution_count": 2,
      "metadata": {
        "colab": {
          "base_uri": "https://localhost:8080/",
          "height": 692,
          "referenced_widgets": [
            "21456b33a8954549ab19f4a8b47afeb2",
            "1c05908a48c84c2aae84c247cea5b847",
            "5e3d53f3e16d44d6af3639c85ce58d3c",
            "e6aca08d477c499faf0f760d8e9076d3",
            "696b616e727a4e85b3b3efee1c887f30",
            "c96bc8c887fe42a08bac97e47c8cc93b",
            "248c8584bf27479b86ff46f9475b42fa",
            "0d03653474b041c0a62b9b6f0d683d12",
            "e6aa779fdf804399a3564b021eb3b873",
            "185acd42ebe0415cb0670bb0912723b8"
          ]
        },
        "id": "WxlmF7ydhyAV",
        "outputId": "6ffaa06b-bd30-4c84-f7e6-98f3d766628e"
      },
      "outputs": [
        {
          "output_type": "display_data",
          "data": {
            "text/plain": [
              "VBox(children=(FloatSlider(value=1.0, description='Valor de h:', max=5.0, min=0.01, step=0.01), FloatText(valu…"
            ],
            "application/vnd.jupyter.widget-view+json": {
              "version_major": 2,
              "version_minor": 0,
              "model_id": "21456b33a8954549ab19f4a8b47afeb2"
            }
          },
          "metadata": {}
        },
        {
          "output_type": "display_data",
          "data": {
            "text/plain": [
              "Output()"
            ],
            "application/vnd.jupyter.widget-view+json": {
              "version_major": 2,
              "version_minor": 0,
              "model_id": "e6aa779fdf804399a3564b021eb3b873"
            }
          },
          "metadata": {}
        }
      ],
      "source": [
        "import numpy as np\n",
        "import matplotlib.pyplot as plt\n",
        "import ipywidgets as widgets\n",
        "from IPython.display import display, clear_output\n",
        "\n",
        "# Definir la función\n",
        "def funcion(x):\n",
        "    return x**2  # Puedes cambiar aquí si deseas otra función\n",
        "\n",
        "# Función para actualizar la gráfica\n",
        "def actualizar_grafica(h, a):\n",
        "    # Limpiar la salida para evitar múltiples gráficas superpuestas\n",
        "    clear_output(wait=True)\n",
        "\n",
        "    # Crear los valores\n",
        "    x = np.linspace(-10, 10, 400)\n",
        "    y = funcion(x)\n",
        "\n",
        "    x_h = a + h\n",
        "    y_a = funcion(a)\n",
        "    y_h = funcion(x_h)\n",
        "\n",
        "    pendiente_secante = (y_h - y_a) / h\n",
        "    x_secante = np.linspace(a - 5, a + 5, 100)\n",
        "    y_secante = y_a + pendiente_secante * (x_secante - a)\n",
        "\n",
        "    pendiente_tangente = 2 * a  # Derivada de x^2\n",
        "    y_tangente = y_a + pendiente_tangente * (x_secante - a)\n",
        "\n",
        "    # Gráfica\n",
        "    plt.figure(figsize=(10,6))\n",
        "    plt.plot(x, y, label=\"f(x) = x^2\", color=\"blue\")\n",
        "    plt.plot(x_secante, y_secante, label=f\"Secante (h={h:.2f})\", color=\"orange\")\n",
        "    if h < 0.1:\n",
        "        plt.plot(x_secante, y_tangente, label=\"Tangente\", color=\"green\", linestyle=\"--\")\n",
        "    plt.scatter([a, x_h], [y_a, y_h], color=\"red\", zorder=5, label=\"Puntos (a, a+h)\")\n",
        "    plt.title(f\"Secante → Tangente: a={a}, h={h:.2f}\")\n",
        "    plt.xlabel(\"x\")\n",
        "    plt.ylabel(\"f(x)\")\n",
        "    plt.grid(True)\n",
        "    plt.legend()\n",
        "    plt.show()\n",
        "\n",
        "    # Mostrar nuevamente los widgets\n",
        "    display(ui)\n",
        "\n",
        "# Crear los sliders y entradas\n",
        "slider_h = widgets.FloatSlider(\n",
        "    value=1.0, min=0.01, max=5.0, step=0.01,\n",
        "    description='Valor de h:'\n",
        ")\n",
        "entrada_a = widgets.FloatText(\n",
        "    value=2.0,\n",
        "    description='Punto a:'\n",
        ")\n",
        "\n",
        "# Organizar los widgets\n",
        "ui = widgets.VBox([slider_h, entrada_a])\n",
        "\n",
        "# Conectar los widgets a la función\n",
        "out = widgets.interactive_output(\n",
        "    actualizar_grafica, {'h': slider_h, 'a': entrada_a}\n",
        ")\n",
        "\n",
        "# Mostrar en pantalla\n",
        "display(ui, out)\n",
        "\n"
      ]
    }
  ]
}